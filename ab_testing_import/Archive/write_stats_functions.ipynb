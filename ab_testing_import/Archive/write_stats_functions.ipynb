{
 "cells": [
  {
   "cell_type": "code",
   "execution_count": 2,
   "metadata": {},
   "outputs": [],
   "source": [
    "from tests.get_test_data import get_data_input_to_stats\n",
    "\n",
    "# df and metrics are the 2 parameters that will be input into the stats step\n",
    "df, metrics = get_data_input_to_stats()"
   ]
  },
  {
   "cell_type": "code",
   "execution_count": 5,
   "metadata": {},
   "outputs": [
    {
     "data": {
      "text/plain": [
       "Index(['TEST_CELL', 'OID', 'DT', 'MATCH_TYPE_ID', 'MATCH_TYPE', 'SESSION_ID',\n",
       "       'ACCEPTS', 'CLOSED_LEADS', 'WON_LEADS', 'CALL_TRACKING_LEADS',\n",
       "       'CALLED_LEADS', 'CONNECTIONS', 'LEADS_W_CREDIT_REQ', 'LEADS_W_APPR_CR',\n",
       "       'NET_REV', 'GROSS_REV', 'DT2'],\n",
       "      dtype='object')"
      ]
     },
     "execution_count": 5,
     "metadata": {},
     "output_type": "execute_result"
    }
   ],
   "source": [
    "# df is the raw event-level table output from the SQL query\n",
    "df.columns"
   ]
  },
  {
   "cell_type": "code",
   "execution_count": 8,
   "metadata": {},
   "outputs": [
    {
     "data": {
      "text/plain": [
       "{'accept_rate': {'denominator_column': 'COUNT',\n",
       "  'function': <function ab_testing_import.test_setup.ABTest.get_metric_function.<locals>.<lambda>>,\n",
       "  'numerator_column': 'ACCEPTS',\n",
       "  'type': 'average'},\n",
       " 'call_rate': {'denominator_column': 'CALL_TRACKING_LEADS',\n",
       "  'function': <function ab_testing_import.test_setup.ABTest.get_metric_function.<locals>.<lambda>>,\n",
       "  'numerator_column': 'CALLED_LEADS',\n",
       "  'type': 'ratio'},\n",
       " 'connection_rate': {'denominator_column': 'CALL_TRACKING_LEADS',\n",
       "  'function': <function ab_testing_import.test_setup.ABTest.get_metric_function.<locals>.<lambda>>,\n",
       "  'numerator_column': 'CONNECTIONS',\n",
       "  'type': 'ratio'},\n",
       " 'contact_on_call_rate': {'denominator_column': 'CALLED_LEADS',\n",
       "  'function': <function ab_testing_import.test_setup.ABTest.get_metric_function.<locals>.<lambda>>,\n",
       "  'numerator_column': 'CONNECTIONS',\n",
       "  'type': 'ratio'},\n",
       " 'credit_approval_rate': {'denominator_column': 'LEADS_W_CREDIT_REQ',\n",
       "  'function': <function ab_testing_import.test_setup.ABTest.get_metric_function.<locals>.<lambda>>,\n",
       "  'numerator_column': 'LEADS_W_APPR_CR',\n",
       "  'type': 'ratio'},\n",
       " 'credit_request_rate': {'denominator_column': 'ACCEPTS',\n",
       "  'function': <function ab_testing_import.test_setup.ABTest.get_metric_function.<locals>.<lambda>>,\n",
       "  'numerator_column': 'LEADS_W_CREDIT_REQ',\n",
       "  'type': 'ratio'},\n",
       " 'gross_rev': {'denominator_column': 'COUNT',\n",
       "  'function': <function ab_testing_import.test_setup.ABTest.get_metric_function.<locals>.<lambda>>,\n",
       "  'numerator_column': 'GROSS_REV',\n",
       "  'type': 'average'},\n",
       " 'net_rev': {'denominator_column': 'COUNT',\n",
       "  'function': <function ab_testing_import.test_setup.ABTest.get_metric_function.<locals>.<lambda>>,\n",
       "  'numerator_column': 'NET_REV',\n",
       "  'type': 'average'},\n",
       " 'win_rate': {'denominator_column': 'CLOSED_LEADS',\n",
       "  'function': <function ab_testing_import.test_setup.ABTest.get_metric_function.<locals>.<lambda>>,\n",
       "  'numerator_column': 'WON_LEADS',\n",
       "  'type': 'ratio'}}"
      ]
     },
     "execution_count": 8,
     "metadata": {},
     "output_type": "execute_result"
    }
   ],
   "source": [
    "# metrics is a dictionary, with each key being a metric that we want to track\n",
    "# Each metric is mapped to a dictionary with the following keys:\n",
    "#   - numerator_column: the column name in the dataframe for the numerator of the metric\n",
    "#   - denominator_column: the column name of the denom, or COUNT, which refers to the number of records (basically, means it's an average)\n",
    "#   - type: either ratio or average. ratios are always binary metrics; averages could be either binary or continuous\n",
    "#   - function: the actual function you can apply to the dataframe to return the metric column\n",
    "#     example: df['accept_rate'] = df.apply(metrics['accept_rate']['function'], axis=1)\n",
    "metrics"
   ]
  },
  {
   "cell_type": "code",
   "execution_count": null,
   "metadata": {},
   "outputs": [],
   "source": [
    "df['COUNT'] = 1"
   ]
  }
 ],
 "metadata": {
  "kernelspec": {
   "display_name": "Python 3",
   "language": "python",
   "name": "python3"
  },
  "language_info": {
   "codemirror_mode": {
    "name": "ipython",
    "version": 3
   },
   "file_extension": ".py",
   "mimetype": "text/x-python",
   "name": "python",
   "nbconvert_exporter": "python",
   "pygments_lexer": "ipython3",
   "version": "3.6.3"
  }
 },
 "nbformat": 4,
 "nbformat_minor": 2
}
